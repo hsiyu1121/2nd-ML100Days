{
 "cells": [
  {
   "cell_type": "markdown",
   "metadata": {},
   "source": [
    "## Work\n",
    "1. 請嘗試寫一個 callback 用來記錄各類別在訓練過程中，對驗證集的 True Positive 與 True Negative"
   ]
  },
  {
   "cell_type": "code",
   "execution_count": 17,
   "metadata": {},
   "outputs": [],
   "source": [
    "import os\n",
    "import keras\n",
    "\n",
    "# Disable GPU\n",
    "os.environ[\"CUDA_VISIBLE_DEVICES\"] = \"\""
   ]
  },
  {
   "cell_type": "code",
   "execution_count": 18,
   "metadata": {},
   "outputs": [],
   "source": [
    "train, test = keras.datasets.cifar10.load_data()"
   ]
  },
  {
   "cell_type": "code",
   "execution_count": 19,
   "metadata": {},
   "outputs": [],
   "source": [
    "## 資料前處理\n",
    "def preproc_x(x, flatten=True):\n",
    "    x = x / 255.\n",
    "    if flatten:\n",
    "        x = x.reshape((len(x), -1))\n",
    "    return x\n",
    "\n",
    "def preproc_y(y, num_classes=10):\n",
    "    if y.shape[-1] == 1:\n",
    "        y = keras.utils.to_categorical(y, num_classes)\n",
    "    return y    "
   ]
  },
  {
   "cell_type": "code",
   "execution_count": 20,
   "metadata": {},
   "outputs": [],
   "source": [
    "x_train, y_train = train\n",
    "x_test, y_test = test\n",
    "\n",
    "# Preproc the inputs\n",
    "x_train = preproc_x(x_train)\n",
    "x_test = preproc_x(x_test)\n",
    "\n",
    "# Preprc the outputs\n",
    "y_train = preproc_y(y_train)\n",
    "y_test = preproc_y(y_test)"
   ]
  },
  {
   "cell_type": "code",
   "execution_count": 21,
   "metadata": {},
   "outputs": [],
   "source": [
    "from keras.layers import BatchNormalization\n",
    "def build_mlp(input_shape, output_units=10, num_neurons=[256, 256, 256]):\n",
    "    input_layer = keras.layers.Input(input_shape)\n",
    "    \n",
    "    for i, n_units in enumerate(num_neurons):\n",
    "        if i == 0:\n",
    "            x = keras.layers.Dense(units=n_units, \n",
    "                                   activation=\"relu\", \n",
    "                                   name=\"hidden_layer\"+str(i+1))(input_layer)\n",
    "            x = BatchNormalization()(x)\n",
    "        else:\n",
    "            x = keras.layers.Dense(units=n_units, \n",
    "                                   activation=\"relu\", \n",
    "                                   name=\"hidden_layer\"+str(i+1))(x)\n",
    "            x = BatchNormalization()(x)\n",
    "    \n",
    "    out = keras.layers.Dense(units=output_units, activation=\"softmax\", name=\"output\")(x)\n",
    "    \n",
    "    model = keras.models.Model(inputs=[input_layer], outputs=[out])\n",
    "    return model"
   ]
  },
  {
   "cell_type": "code",
   "execution_count": 22,
   "metadata": {},
   "outputs": [],
   "source": [
    "## 超參數設定\n",
    "LEARNING_RATE = 1e-3\n",
    "EPOCHS = 25\n",
    "BATCH_SIZE = 1024\n",
    "MOMENTUM = 0.95"
   ]
  },
  {
   "cell_type": "code",
   "execution_count": 23,
   "metadata": {},
   "outputs": [],
   "source": [
    "# 載入 Callbacks\n",
    "from keras.callbacks import Callback\n",
    "import numpy as np\n",
    "# Record_fp_tp\n",
    "class Record_tp_tn(Callback):\n",
    "    \"\"\"Code Here\n",
    "    撰寫一個紀錄 ture positive 與 true negative 數量的 callbacks    \n",
    "    \"\"\"\n",
    "    def on_epoch_end(self, epoch, logs = {}, thres=0.5):\n",
    "        logs = logs or {}\n",
    "        y_true = self.validation_data[1].argmax(axis = 1)\n",
    "        y_pred = self.model.predict(self.validation_data[0])\n",
    "        y_pred = (y_pred[:, 1] >= thres) * 1\n",
    "        logs[\"valid_tp\"] = np.sum(np.logical_and(y_pred == 1, y_true == 1))\n",
    "        logs[\"valid_tn\"] = np.sum(np.logical_and(y_pred == 0, y_true == 0))       \n",
    "rec_tptn = Record_tp_tn()"
   ]
  },
  {
   "cell_type": "code",
   "execution_count": 24,
   "metadata": {
    "scrolled": true
   },
   "outputs": [
    {
     "name": "stdout",
     "output_type": "stream",
     "text": [
      "_________________________________________________________________\n",
      "Layer (type)                 Output Shape              Param #   \n",
      "=================================================================\n",
      "input_2 (InputLayer)         (None, 3072)              0         \n",
      "_________________________________________________________________\n",
      "hidden_layer1 (Dense)        (None, 256)               786688    \n",
      "_________________________________________________________________\n",
      "batch_normalization_4 (Batch (None, 256)               1024      \n",
      "_________________________________________________________________\n",
      "hidden_layer2 (Dense)        (None, 256)               65792     \n",
      "_________________________________________________________________\n",
      "batch_normalization_5 (Batch (None, 256)               1024      \n",
      "_________________________________________________________________\n",
      "hidden_layer3 (Dense)        (None, 256)               65792     \n",
      "_________________________________________________________________\n",
      "batch_normalization_6 (Batch (None, 256)               1024      \n",
      "_________________________________________________________________\n",
      "output (Dense)               (None, 10)                2570      \n",
      "=================================================================\n",
      "Total params: 923,914\n",
      "Trainable params: 922,378\n",
      "Non-trainable params: 1,536\n",
      "_________________________________________________________________\n",
      "Train on 50000 samples, validate on 10000 samples\n",
      "Epoch 1/25\n",
      "50000/50000 [==============================] - 6s 119us/step - loss: 2.2148 - acc: 0.2772 - val_loss: 2.1315 - val_acc: 0.3068\n",
      "Epoch 2/25\n",
      "50000/50000 [==============================] - 5s 102us/step - loss: 1.7576 - acc: 0.3895 - val_loss: 1.8974 - val_acc: 0.3529\n",
      "Epoch 3/25\n",
      "50000/50000 [==============================] - 6s 128us/step - loss: 1.6261 - acc: 0.4317 - val_loss: 1.7188 - val_acc: 0.3965\n",
      "Epoch 4/25\n",
      "50000/50000 [==============================] - 4s 89us/step - loss: 1.5481 - acc: 0.4583 - val_loss: 1.6416 - val_acc: 0.4224\n",
      "Epoch 5/25\n",
      "50000/50000 [==============================] - 4s 83us/step - loss: 1.4947 - acc: 0.4779 - val_loss: 1.5880 - val_acc: 0.4397\n",
      "Epoch 6/25\n",
      "50000/50000 [==============================] - 4s 82us/step - loss: 1.4511 - acc: 0.4933 - val_loss: 1.5606 - val_acc: 0.4469\n",
      "Epoch 7/25\n",
      "50000/50000 [==============================] - 4s 83us/step - loss: 1.4121 - acc: 0.5066 - val_loss: 1.5411 - val_acc: 0.4541\n",
      "Epoch 8/25\n",
      "50000/50000 [==============================] - 4s 89us/step - loss: 1.3790 - acc: 0.5184 - val_loss: 1.5175 - val_acc: 0.4621\n",
      "Epoch 9/25\n",
      "50000/50000 [==============================] - 4s 87us/step - loss: 1.3494 - acc: 0.5279 - val_loss: 1.5079 - val_acc: 0.4635\n",
      "Epoch 10/25\n",
      "50000/50000 [==============================] - 4s 87us/step - loss: 1.3206 - acc: 0.5392 - val_loss: 1.5000 - val_acc: 0.4689\n",
      "Epoch 11/25\n",
      "50000/50000 [==============================] - 4s 84us/step - loss: 1.2956 - acc: 0.5491 - val_loss: 1.4854 - val_acc: 0.4735\n",
      "Epoch 12/25\n",
      "50000/50000 [==============================] - 4s 85us/step - loss: 1.2710 - acc: 0.5572 - val_loss: 1.4833 - val_acc: 0.4709\n",
      "Epoch 13/25\n",
      "50000/50000 [==============================] - 4s 84us/step - loss: 1.2478 - acc: 0.5661 - val_loss: 1.4787 - val_acc: 0.4753\n",
      "Epoch 14/25\n",
      "50000/50000 [==============================] - 4s 88us/step - loss: 1.2263 - acc: 0.5741 - val_loss: 1.4594 - val_acc: 0.4783\n",
      "Epoch 15/25\n",
      "50000/50000 [==============================] - 4s 87us/step - loss: 1.2044 - acc: 0.5824 - val_loss: 1.4580 - val_acc: 0.4801\n",
      "Epoch 16/25\n",
      "50000/50000 [==============================] - 4s 86us/step - loss: 1.1840 - acc: 0.5900 - val_loss: 1.4586 - val_acc: 0.4856\n",
      "Epoch 17/25\n",
      "50000/50000 [==============================] - 4s 84us/step - loss: 1.1654 - acc: 0.5958 - val_loss: 1.4593 - val_acc: 0.4846\n",
      "Epoch 18/25\n",
      "50000/50000 [==============================] - 4s 82us/step - loss: 1.1460 - acc: 0.6040 - val_loss: 1.4501 - val_acc: 0.4895\n",
      "Epoch 19/25\n",
      "50000/50000 [==============================] - 4s 83us/step - loss: 1.1271 - acc: 0.6116 - val_loss: 1.4466 - val_acc: 0.4924\n",
      "Epoch 20/25\n",
      "50000/50000 [==============================] - 4s 82us/step - loss: 1.1084 - acc: 0.6202 - val_loss: 1.4454 - val_acc: 0.4887\n",
      "Epoch 21/25\n",
      "50000/50000 [==============================] - 4s 82us/step - loss: 1.0911 - acc: 0.6236 - val_loss: 1.4473 - val_acc: 0.4948\n",
      "Epoch 22/25\n",
      "50000/50000 [==============================] - 4s 83us/step - loss: 1.0715 - acc: 0.6329 - val_loss: 1.4404 - val_acc: 0.4903\n",
      "Epoch 23/25\n",
      "50000/50000 [==============================] - 4s 83us/step - loss: 1.0553 - acc: 0.6405 - val_loss: 1.4405 - val_acc: 0.4925\n",
      "Epoch 24/25\n",
      "50000/50000 [==============================] - 4s 83us/step - loss: 1.0387 - acc: 0.6454 - val_loss: 1.4462 - val_acc: 0.4900\n",
      "Epoch 25/25\n",
      "50000/50000 [==============================] - 4s 82us/step - loss: 1.0220 - acc: 0.6516 - val_loss: 1.4345 - val_acc: 0.4977\n"
     ]
    }
   ],
   "source": [
    "model = build_mlp(input_shape=x_train.shape[1:])\n",
    "model.summary()\n",
    "optimizer = keras.optimizers.SGD(lr=LEARNING_RATE, nesterov=True, momentum=MOMENTUM)\n",
    "model.compile(loss=\"categorical_crossentropy\", metrics=[\"accuracy\"], optimizer=optimizer)\n",
    "\n",
    "\"\"\"Code Here\n",
    "將 callbacks 放入模型訓練流程中\n",
    "\"\"\"\n",
    "model.fit(x_train, y_train, \n",
    "          epochs=EPOCHS, \n",
    "          batch_size=BATCH_SIZE, \n",
    "          validation_data=(x_test, y_test), \n",
    "          shuffle=True,\n",
    "          callbacks=[rec_tptn]\n",
    "         )\n",
    "\n",
    "# Collect results\n",
    "train_loss = model.history.history[\"loss\"]\n",
    "valid_loss = model.history.history[\"val_loss\"]\n",
    "train_acc = model.history.history[\"acc\"]\n",
    "valid_acc = model.history.history[\"val_acc\"]\n",
    "\n",
    "\"\"\"Code Here\n",
    "將 tp/tn 從訓練完的模型中取出\n",
    "\"\"\"\n",
    "valid_tp = model.history.history['valid_tp']\n",
    "valid_tn = model.history.history['valid_tn']"
   ]
  },
  {
   "cell_type": "code",
   "execution_count": 25,
   "metadata": {},
   "outputs": [
    {
     "data": {
      "image/png": "[encoded data removed]",
      "text/plain": [
       "<Figure size 432x288 with 1 Axes>"
      ]
     },
     "metadata": {
      "needs_background": "light"
     },
     "output_type": "display_data"
    },
    {
     "data": {
      "image/png": "[encoded data removed]",
      "text/plain": [
       "<Figure size 432x288 with 1 Axes>"
      ]
     },
     "metadata": {
      "needs_background": "light"
     },
     "output_type": "display_data"
    },
    {
     "data": {
      "image/png": "[encoded data removed]",
      "text/plain": [
       "<Figure size 432x288 with 1 Axes>"
      ]
     },
     "metadata": {
      "needs_background": "light"
     },
     "output_type": "display_data"
    }
   ],
   "source": [
    "import matplotlib.pyplot as plt\n",
    "%matplotlib inline\n",
    "\n",
    "plt.plot(range(len(train_loss)), train_loss, label=\"train loss\")\n",
    "plt.plot(range(len(valid_loss)), valid_loss, label=\"valid loss\")\n",
    "plt.legend()\n",
    "plt.title(\"Loss\")\n",
    "plt.show()\n",
    "\n",
    "plt.plot(range(len(train_acc)), train_acc, label=\"train accuracy\")\n",
    "plt.plot(range(len(valid_acc)), valid_acc, label=\"valid accuracy\")\n",
    "plt.legend()\n",
    "plt.title(\"Accuracy\")\n",
    "plt.show()\n",
    "\n",
    "plt.plot(range(len(valid_tp)), valid_tp, label=\"valid tp\", color=\"navy\")\n",
    "plt.plot(range(len(valid_tn)), valid_tn, label=\"valid tn\", color=\"red\")\n",
    "plt.legend()\n",
    "plt.title(\"True positives and True Negatives\")\n",
    "plt.show()"
   ]
  },
  {
   "cell_type": "code",
   "execution_count": null,
   "metadata": {},
   "outputs": [],
   "source": []
  }
 ],
 "metadata": {
  "kernelspec": {
   "display_name": "Python 3",
   "language": "python",
   "name": "python3"
  },
  "language_info": {
   "codemirror_mode": {
    "name": "ipython",
    "version": 3
   },
   "file_extension": ".py",
   "mimetype": "text/x-python",
   "name": "python",
   "nbconvert_exporter": "python",
   "pygments_lexer": "ipython3",
   "version": "3.7.3"
  }
 },
 "nbformat": 4,
 "nbformat_minor": 2
}
