{
 "cells": [
  {
   "cell_type": "markdown",
   "metadata": {},
   "source": [
    "## 練習時間\n",
    "相信大家對回歸問題及分類問題都有初步的了解。今天的作業希望大家搜尋有關 multi-label 的案例問題。下圖是電影 \"奇異博士\" 的分類。可以看到同時有 \"Action\", \"Adventure\", \"Fantasy\" 的類別存在，代表這是個多標籤的問題。 "
   ]
  },
  {
   "cell_type": "markdown",
   "metadata": {},
   "source": [
    "![image](https://cdn-images-1.medium.com/max/1000/1*r0gYXMSQf5VhdMyl2bRDyg.png)"
   ]
  },
  {
   "cell_type": "markdown",
   "metadata": {},
   "source": [
    "## 請搜尋目標為多標籤問題 (Multi-label) 的機器學習案例，了解其資料來源、目標以及評估指標為何\n",
    "## Hint: 服飾"
   ]
  },
  {
   "cell_type": "markdown",
   "metadata": {},
   "source": [
    "## 資料來源:https://www.leiphone.com/news/201806/zNf5mML08pNF5HYh.html\n",
    "## 目標:\n",
    "### 1.提出了一種強化多標籤分類的方法來模擬人類從易到難預測標籤的過程。\n",
    "### 2.這種方法讓一個強化學習的智慧體根據圖像的特徵和已預測的標籤有順序的進行標籤預測。\n",
    "### 進而，通過尋求一種使累計獎賞達到最大的方法來獲得的最優策略，使得多標籤圖像分類的準確性最高。\n",
    "### 3. 在真實的多標籤任務中，在這種強化標籤圖像分類方法的必要性和有效性。\n",
    "## 評估指標:\n",
    "### 第一个指標，累平均和樣本平均的準確率，即 class-level 和 example-level 的 precision\n",
    "### 第二个指標，指標是類平均和樣本平均的召回率，即 class-level 和 example-level 的 recall 值\n",
    "### 第三个指標，類平均和樣本平均的指標值，即 class-level 和 example-level 的 F 值"
   ]
  },
  {
   "cell_type": "code",
   "execution_count": null,
   "metadata": {},
   "outputs": [],
   "source": []
  }
 ],
 "metadata": {
  "kernelspec": {
   "display_name": "Python 3",
   "language": "python",
   "name": "python3"
  },
  "language_info": {
   "codemirror_mode": {
    "name": "ipython",
    "version": 3
   },
   "file_extension": ".py",
   "mimetype": "text/x-python",
   "name": "python",
   "nbconvert_exporter": "python",
   "pygments_lexer": "ipython3",
   "version": "3.7.1"
  }
 },
 "nbformat": 4,
 "nbformat_minor": 2
}
