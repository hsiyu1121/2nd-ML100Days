{
 "cells": [
  {
   "cell_type": "markdown",
   "metadata": {},
   "source": [
    "# 作業1：\n",
    "\n",
    "## 請上 Kaggle, 在 Competitions 或 Dataset 中找一組競賽或資料並寫下：\n",
    " [youtube](https://www.kaggle.com/datasnaek/youtube-new)\n",
    "## 1. 你選的這組資料為何重要\n",
    "    * Youtube已經是大部分人生活的一部分，傳播媒體的途徑，透過youtube可以更有效地傳達分享人想傳達的內容\n",
    "\n",
    "## 2. 資料從何而來 (tips: 譬如提供者是誰、以什麼方式蒐集)\n",
    "    * YouTube API\n",
    "\n",
    "## 3. 蒐集而來的資料型態為何\n",
    "     * .csv .json\n",
    "\n",
    "## 4. 這組資料想解決的問題如何評估\n",
    "    * 各種形式的情感分析。\n",
    "    * 根據評論和統計信息對YouTube視頻進行分類。\n",
    "    * 訓練像RNN這樣的ML算法來生成自己的YouTube評論。\n",
    "    * 分析哪些因素會影響YouTube視頻的受歡迎程度。\n",
    "    * 隨時間的統計分析。\n"
   ]
  },
  {
   "cell_type": "markdown",
   "metadata": {},
   "source": [
    "# 作業2：\n",
    "\n",
    "## 想像你經營一個自由載客車隊，你希望能透過數據分析以提升業績，請你思考並描述你如何規劃整體的分析/解決方案：\n",
    "\n",
    "## 1. 核心問題為何 (tips：如何定義 「提升業績 & 你的假設」)\n",
    "     * 提升司機的載客率\n",
    "     * 到高鐵，火車站，捷運站附近提供載客服務\n",
    "     * 配合地區舉行的活動\n",
    "     * 在夜市載客\n",
    "   \n",
    "## 2. 資料從何而來 (tips：哪些資料可能會對你想問的問題產生影響 & 資料如何蒐集)\n",
    "   ### 哪些資料可能會對你想問的問題產生影響\n",
    "    * 天候狀況\n",
    "    * 其他大眾運輸工具\n",
    "    * 塞車\n",
    "    * 交通事故\n",
    "   ### 資料如何蒐集\n",
    "    * 透過叫車服務\n",
    "    * 自行研發手機APP\n",
    "    * 與超商結合叫車服務\n",
    "   \n",
    "## 3. 蒐集而來的資料型態為何\n",
    "    * .csv .json\n",
    "\n",
    "\n",
    "## 4. 你要回答的問題，其如何評估 (tips：你的假設如何驗證)\n",
    "    * 透過數據分析出載客率的提升，時間和距離可以發揮到最大\n",
    "    * 找出尖峰時間來載客\n",
    "    * 離峰時間讓司機可以休息，降低成本\n"
   ]
  },
  {
   "cell_type": "markdown",
   "metadata": {},
   "source": [
    "## 練習時間\n",
    "#### 請寫一個函式用來計算 Mean Square Error\n",
    "$ MSE = \\frac{1}{n}\\sum_{i=1}^{n}{(Y_i - \\hat{Y}_i)^2} $\n",
    "\n",
    "### Hint: [如何取平方](https://googoodesign.gitbooks.io/-ezpython/unit-1.html)"
   ]
  },
  {
   "cell_type": "code",
   "execution_count": 14,
   "metadata": {},
   "outputs": [],
   "source": [
    "import numpy as np\n",
    "import matplotlib.pyplot as plt"
   ]
  },
  {
   "cell_type": "code",
   "execution_count": 15,
   "metadata": {},
   "outputs": [],
   "source": [
    "def mean_squared_error(y, yp):\n",
    "    \"\"\"\n",
    "    計算 MSE\n",
    "    Args:\n",
    "        - y: 實際值\n",
    "        - yp: 預測值\n",
    "    Return:\n",
    "        - mae: MAE\n",
    "    \"\"\"\n",
    "    mse = MSE = sum((y - yp)**2 ) / len(y)\n",
    "    return mse\n",
    "def mean_absolute_error(y, yp):\n",
    "    \"\"\"\n",
    "    計算 MAE\n",
    "    Args:\n",
    "        - y: 實際值\n",
    "        - yp: 預測值\n",
    "    Return:\n",
    "        - mae: MAE\n",
    "    \"\"\"\n",
    "    mae = MAE = sum(abs(y - yp)) / len(y)\n",
    "    return mae\n"
   ]
  },
  {
   "cell_type": "code",
   "execution_count": 16,
   "metadata": {},
   "outputs": [
    {
     "data": {
      "image/png": "[encoded data removed]",
      "text/plain": [
       "<Figure size 432x288 with 1 Axes>"
      ]
     },
     "metadata": {
      "needs_background": "light"
     },
     "output_type": "display_data"
    }
   ],
   "source": [
    "w = 3\n",
    "b = 0.5\n",
    "\n",
    "x_lin = np.linspace(0, 100, 101)\n",
    "\n",
    "y = (x_lin + np.random.randn(101) * 5) * w + b\n",
    "\n",
    "plt.plot(x_lin, y, 'b.', label = 'data points')\n",
    "plt.title(\"Assume we have data points\")\n",
    "plt.legend(loc = 2)\n",
    "plt.show()"
   ]
  },
  {
   "cell_type": "code",
   "execution_count": 17,
   "metadata": {},
   "outputs": [
    {
     "data": {
      "image/png": "[encoded data removed]",
      "text/plain": [
       "<Figure size 432x288 with 1 Axes>"
      ]
     },
     "metadata": {
      "needs_background": "light"
     },
     "output_type": "display_data"
    }
   ],
   "source": [
    "y_hat = x_lin * w + b\n",
    "plt.plot(x_lin, y, 'b.', label = 'data')\n",
    "plt.plot(x_lin, y_hat, 'r-', label = 'prediction')\n",
    "plt.title(\"Assume we have data points (And the prediction)\")\n",
    "plt.legend(loc = 2)\n",
    "plt.show()"
   ]
  },
  {
   "cell_type": "code",
   "execution_count": 18,
   "metadata": {},
   "outputs": [
    {
     "name": "stdout",
     "output_type": "stream",
     "text": [
      "The Mean squared error is 170.936\n",
      "The Mean absolute error is 10.523\n"
     ]
    }
   ],
   "source": [
    "# 執行 Function, 確認有沒有正常執行\n",
    "MSE = mean_squared_error(y, y_hat)\n",
    "MAE = mean_absolute_error(y, y_hat)\n",
    "print(\"The Mean squared error is %.3f\" % (MSE))\n",
    "print(\"The Mean absolute error is %.3f\" % (MAE))"
   ]
  },
  {
   "cell_type": "code",
   "execution_count": null,
   "metadata": {},
   "outputs": [],
   "source": []
  }
 ],
 "metadata": {
  "anaconda-cloud": {},
  "kernelspec": {
   "display_name": "Python 3",
   "language": "python",
   "name": "python3"
  },
  "language_info": {
   "codemirror_mode": {
    "name": "ipython",
    "version": 3
   },
   "file_extension": ".py",
   "mimetype": "text/x-python",
   "name": "python",
   "nbconvert_exporter": "python",
   "pygments_lexer": "ipython3",
   "version": "3.7.1"
  }
 },
 "nbformat": 4,
 "nbformat_minor": 1
}
