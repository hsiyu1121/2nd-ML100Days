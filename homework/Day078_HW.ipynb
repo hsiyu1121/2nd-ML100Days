{
 "cells": [
  {
   "cell_type": "markdown",
   "metadata": {},
   "source": [
    "## Work\n",
    "1. 請嘗試將 preproc_x 替換成以每筆資料的 min/max 進行標準化至 -1 ~ 1 間，再進行訓練\n",
    "2. 請嘗試將 mlp 疊更深 (e.g 5~10 層)，進行訓練後觀察 learning curve 的走勢\n",
    "3. (optional) 請改用 GPU 進行訓練 (如果你有 GPU 的話)，比較使用 CPU 與 GPU 的訓練速度"
   ]
  },
  {
   "cell_type": "code",
   "execution_count": 1,
   "metadata": {},
   "outputs": [
    {
     "name": "stdout",
     "output_type": "stream",
     "text": [
      "/bin/sh: nvidia-smi: command not found\r\n"
     ]
    }
   ],
   "source": [
    "## \n",
    "\"\"\"\n",
    "Your code here (optional)\n",
    "確認硬體資源\n",
    "\"\"\"\n",
    "!nvidia-smi"
   ]
  },
  {
   "cell_type": "code",
   "execution_count": 2,
   "metadata": {},
   "outputs": [
    {
     "name": "stderr",
     "output_type": "stream",
     "text": [
      "Using TensorFlow backend.\n"
     ]
    }
   ],
   "source": [
    "import os\n",
    "import keras\n",
    "\n",
    "# 請嘗試設定 GPU：os.environ\n",
    "os.environ[\"CUDA_VISIBLE_DEVICES\"] = \"\""
   ]
  },
  {
   "cell_type": "code",
   "execution_count": 3,
   "metadata": {},
   "outputs": [],
   "source": [
    "train, test = keras.datasets.cifar10.load_data()"
   ]
  },
  {
   "cell_type": "code",
   "execution_count": 4,
   "metadata": {},
   "outputs": [],
   "source": [
    "## 資料前處理\n",
    "\"\"\"\n",
    "Your code here\n",
    "\"\"\"\n",
    "#def preproc_x():\n",
    "#    pass\n",
    "\n",
    "#def preproc_y():\n",
    "#    pass\n",
    "\n",
    "def preproc_x(x, flatten=True):\n",
    "    x = x / 255.\n",
    "    if flatten:\n",
    "        x = x.reshape((len(x), -1))\n",
    "    return x\n",
    "\n",
    "def preproc_y(y, num_classes=10):\n",
    "    if y.shape[-1] == 1:\n",
    "        y = keras.utils.to_categorical(y, num_classes)\n",
    "    return y  "
   ]
  },
  {
   "cell_type": "code",
   "execution_count": 5,
   "metadata": {},
   "outputs": [],
   "source": [
    "x_train, y_train = train\n",
    "x_test, y_test = test\n",
    "\n",
    "# Preproc the inputs\n",
    "x_train = preproc_x(x_train)\n",
    "x_test = preproc_x(x_test)\n",
    "\n",
    "# Preprc the outputs\n",
    "y_train = preproc_y(y_train)\n",
    "y_test = preproc_y(y_test)"
   ]
  },
  {
   "cell_type": "code",
   "execution_count": 6,
   "metadata": {},
   "outputs": [
    {
     "name": "stderr",
     "output_type": "stream",
     "text": [
      "WARNING: Logging before flag parsing goes to stderr.\n",
      "W0712 16:44:34.243582 4595832256 deprecation_wrapper.py:119] From /anaconda3/lib/python3.7/site-packages/keras/backend/tensorflow_backend.py:74: The name tf.get_default_graph is deprecated. Please use tf.compat.v1.get_default_graph instead.\n",
      "\n",
      "W0712 16:44:34.294281 4595832256 deprecation_wrapper.py:119] From /anaconda3/lib/python3.7/site-packages/keras/backend/tensorflow_backend.py:517: The name tf.placeholder is deprecated. Please use tf.compat.v1.placeholder instead.\n",
      "\n",
      "W0712 16:44:34.307897 4595832256 deprecation_wrapper.py:119] From /anaconda3/lib/python3.7/site-packages/keras/backend/tensorflow_backend.py:4138: The name tf.random_uniform is deprecated. Please use tf.random.uniform instead.\n",
      "\n"
     ]
    },
    {
     "name": "stdout",
     "output_type": "stream",
     "text": [
      "_________________________________________________________________\n",
      "Layer (type)                 Output Shape              Param #   \n",
      "=================================================================\n",
      "input_1 (InputLayer)         (None, 3072)              0         \n",
      "_________________________________________________________________\n",
      "hidden_layer1 (Dense)        (None, 512)               1573376   \n",
      "_________________________________________________________________\n",
      "hidden_layer2 (Dense)        (None, 256)               131328    \n",
      "_________________________________________________________________\n",
      "hidden_layer3 (Dense)        (None, 128)               32896     \n",
      "_________________________________________________________________\n",
      "output (Dense)               (None, 10)                1290      \n",
      "=================================================================\n",
      "Total params: 1,738,890\n",
      "Trainable params: 1,738,890\n",
      "Non-trainable params: 0\n",
      "_________________________________________________________________\n"
     ]
    }
   ],
   "source": [
    "\"\"\"Code Here\n",
    "建立你的神經網路\n",
    "\"\"\"\n",
    "#def build_mlp():\n",
    "#    pass\n",
    "\n",
    "def build_mlp(input_shape, output_units=10, num_neurons=[512, 256, 128]):\n",
    "    input_layer = keras.layers.Input(input_shape)\n",
    "    \n",
    "    for i, n_units in enumerate(num_neurons):\n",
    "        if i == 0:\n",
    "            x = keras.layers.Dense(units=n_units, activation=\"relu\", name=\"hidden_layer\"+str(i+1))(input_layer)\n",
    "        else:\n",
    "            x = keras.layers.Dense(units=n_units, activation=\"relu\", name=\"hidden_layer\"+str(i+1))(x)\n",
    "    \n",
    "    out = keras.layers.Dense(units=output_units, activation=\"softmax\", name=\"output\")(x)\n",
    "    \n",
    "    model = keras.models.Model(inputs=[input_layer], outputs=[out])\n",
    "    return model\n",
    "\n",
    "\n",
    "\n",
    "model = build_mlp(input_shape=x_train.shape[1:])\n",
    "model.summary()"
   ]
  },
  {
   "cell_type": "code",
   "execution_count": 8,
   "metadata": {},
   "outputs": [],
   "source": [
    "## 超參數設定\n",
    "LEARNING_RATE = 0.001\n",
    "EPOCHS = 100\n",
    "BATCH_SIZE = 256"
   ]
  },
  {
   "cell_type": "code",
   "execution_count": 9,
   "metadata": {},
   "outputs": [
    {
     "name": "stderr",
     "output_type": "stream",
     "text": [
      "W0712 16:45:16.756552 4595832256 deprecation_wrapper.py:119] From /anaconda3/lib/python3.7/site-packages/keras/optimizers.py:790: The name tf.train.Optimizer is deprecated. Please use tf.compat.v1.train.Optimizer instead.\n",
      "\n",
      "W0712 16:45:16.779451 4595832256 deprecation_wrapper.py:119] From /anaconda3/lib/python3.7/site-packages/keras/backend/tensorflow_backend.py:3295: The name tf.log is deprecated. Please use tf.math.log instead.\n",
      "\n"
     ]
    }
   ],
   "source": [
    "optimizer = keras.optimizers.Adam(lr=LEARNING_RATE)\n",
    "model.compile(loss=\"categorical_crossentropy\", metrics=[\"accuracy\"], optimizer=optimizer)"
   ]
  },
  {
   "cell_type": "code",
   "execution_count": 10,
   "metadata": {},
   "outputs": [
    {
     "name": "stderr",
     "output_type": "stream",
     "text": [
      "W0712 16:45:20.573673 4595832256 deprecation.py:323] From /anaconda3/lib/python3.7/site-packages/tensorflow/python/ops/math_grad.py:1250: add_dispatch_support.<locals>.wrapper (from tensorflow.python.ops.array_ops) is deprecated and will be removed in a future version.\n",
      "Instructions for updating:\n",
      "Use tf.where in 2.0, which has the same broadcast rule as np.where\n",
      "W0712 16:45:21.187937 4595832256 deprecation_wrapper.py:119] From /anaconda3/lib/python3.7/site-packages/keras/backend/tensorflow_backend.py:986: The name tf.assign_add is deprecated. Please use tf.compat.v1.assign_add instead.\n",
      "\n"
     ]
    },
    {
     "name": "stdout",
     "output_type": "stream",
     "text": [
      "Train on 50000 samples, validate on 10000 samples\n",
      "Epoch 1/100\n",
      "50000/50000 [==============================] - 19s 373us/step - loss: 1.9277 - acc: 0.3019 - val_loss: 1.7629 - val_acc: 0.3665\n",
      "Epoch 2/100\n",
      "50000/50000 [==============================] - 19s 387us/step - loss: 1.7002 - acc: 0.3909 - val_loss: 1.6366 - val_acc: 0.4154\n",
      "Epoch 3/100\n",
      "50000/50000 [==============================] - 19s 375us/step - loss: 1.6089 - acc: 0.4281 - val_loss: 1.5993 - val_acc: 0.4353\n",
      "Epoch 4/100\n",
      "50000/50000 [==============================] - 19s 373us/step - loss: 1.5630 - acc: 0.4447 - val_loss: 1.5587 - val_acc: 0.4406\n",
      "Epoch 5/100\n",
      "50000/50000 [==============================] - 19s 375us/step - loss: 1.4982 - acc: 0.4664 - val_loss: 1.5061 - val_acc: 0.4614\n",
      "Epoch 6/100\n",
      "50000/50000 [==============================] - 19s 381us/step - loss: 1.4570 - acc: 0.4812 - val_loss: 1.5589 - val_acc: 0.4559\n",
      "Epoch 7/100\n",
      "50000/50000 [==============================] - 19s 372us/step - loss: 1.4292 - acc: 0.4902 - val_loss: 1.5011 - val_acc: 0.4685\n",
      "Epoch 8/100\n",
      "50000/50000 [==============================] - 19s 376us/step - loss: 1.3992 - acc: 0.5021 - val_loss: 1.4622 - val_acc: 0.4820\n",
      "Epoch 9/100\n",
      "50000/50000 [==============================] - 20s 394us/step - loss: 1.3768 - acc: 0.5106 - val_loss: 1.4377 - val_acc: 0.4938\n",
      "Epoch 10/100\n",
      "50000/50000 [==============================] - 19s 377us/step - loss: 1.3456 - acc: 0.5206 - val_loss: 1.4176 - val_acc: 0.4922\n",
      "Epoch 11/100\n",
      "50000/50000 [==============================] - 19s 375us/step - loss: 1.3243 - acc: 0.5296 - val_loss: 1.3828 - val_acc: 0.5075\n",
      "Epoch 12/100\n",
      "50000/50000 [==============================] - 19s 384us/step - loss: 1.2886 - acc: 0.5417 - val_loss: 1.3972 - val_acc: 0.5052\n",
      "Epoch 13/100\n",
      "50000/50000 [==============================] - 18s 367us/step - loss: 1.2740 - acc: 0.5458 - val_loss: 1.4037 - val_acc: 0.5084\n",
      "Epoch 14/100\n",
      "50000/50000 [==============================] - 19s 377us/step - loss: 1.2424 - acc: 0.5567 - val_loss: 1.3705 - val_acc: 0.5167\n",
      "Epoch 15/100\n",
      "50000/50000 [==============================] - 19s 378us/step - loss: 1.2388 - acc: 0.5595 - val_loss: 1.3710 - val_acc: 0.5135\n",
      "Epoch 16/100\n",
      "50000/50000 [==============================] - 19s 378us/step - loss: 1.2031 - acc: 0.5707 - val_loss: 1.4496 - val_acc: 0.5068\n",
      "Epoch 17/100\n",
      "50000/50000 [==============================] - 18s 369us/step - loss: 1.1875 - acc: 0.5785 - val_loss: 1.3607 - val_acc: 0.5166\n",
      "Epoch 18/100\n",
      "50000/50000 [==============================] - 21s 416us/step - loss: 1.1597 - acc: 0.5862 - val_loss: 1.3831 - val_acc: 0.5121\n",
      "Epoch 19/100\n",
      "50000/50000 [==============================] - 19s 378us/step - loss: 1.1527 - acc: 0.5879 - val_loss: 1.3599 - val_acc: 0.5284\n",
      "Epoch 20/100\n",
      "50000/50000 [==============================] - 19s 386us/step - loss: 1.1157 - acc: 0.6031 - val_loss: 1.3798 - val_acc: 0.5252\n",
      "Epoch 21/100\n",
      "50000/50000 [==============================] - 19s 372us/step - loss: 1.1056 - acc: 0.6055 - val_loss: 1.3867 - val_acc: 0.5232\n",
      "Epoch 22/100\n",
      "50000/50000 [==============================] - 19s 379us/step - loss: 1.0819 - acc: 0.6150 - val_loss: 1.4186 - val_acc: 0.5114\n",
      "Epoch 23/100\n",
      "50000/50000 [==============================] - 19s 370us/step - loss: 1.0569 - acc: 0.6223 - val_loss: 1.3643 - val_acc: 0.5309\n",
      "Epoch 24/100\n",
      "50000/50000 [==============================] - 19s 377us/step - loss: 1.0403 - acc: 0.6290 - val_loss: 1.3944 - val_acc: 0.5210\n",
      "Epoch 25/100\n",
      "50000/50000 [==============================] - 19s 389us/step - loss: 1.0175 - acc: 0.6379 - val_loss: 1.4651 - val_acc: 0.5093\n",
      "Epoch 26/100\n",
      "50000/50000 [==============================] - 19s 375us/step - loss: 1.0067 - acc: 0.6394 - val_loss: 1.4060 - val_acc: 0.5278\n",
      "Epoch 27/100\n",
      "50000/50000 [==============================] - 18s 370us/step - loss: 0.9918 - acc: 0.6459 - val_loss: 1.4139 - val_acc: 0.5254\n",
      "Epoch 28/100\n",
      "50000/50000 [==============================] - 18s 368us/step - loss: 0.9670 - acc: 0.6558 - val_loss: 1.4141 - val_acc: 0.5198\n",
      "Epoch 29/100\n",
      "50000/50000 [==============================] - 18s 368us/step - loss: 0.9448 - acc: 0.6631 - val_loss: 1.4424 - val_acc: 0.5235\n",
      "Epoch 30/100\n",
      "50000/50000 [==============================] - 18s 364us/step - loss: 0.9318 - acc: 0.6660 - val_loss: 1.4347 - val_acc: 0.5260\n",
      "Epoch 31/100\n",
      "50000/50000 [==============================] - 18s 366us/step - loss: 0.9095 - acc: 0.6751 - val_loss: 1.4383 - val_acc: 0.5312\n",
      "Epoch 32/100\n",
      "50000/50000 [==============================] - 19s 371us/step - loss: 0.8995 - acc: 0.6772 - val_loss: 1.4767 - val_acc: 0.5206\n",
      "Epoch 33/100\n",
      "50000/50000 [==============================] - 19s 376us/step - loss: 0.8793 - acc: 0.6864 - val_loss: 1.4458 - val_acc: 0.5313\n",
      "Epoch 34/100\n",
      "50000/50000 [==============================] - 18s 360us/step - loss: 0.8634 - acc: 0.6913 - val_loss: 1.5036 - val_acc: 0.5205\n",
      "Epoch 35/100\n",
      "50000/50000 [==============================] - 18s 363us/step - loss: 0.8414 - acc: 0.6996 - val_loss: 1.4711 - val_acc: 0.5208\n",
      "Epoch 36/100\n",
      "50000/50000 [==============================] - 18s 365us/step - loss: 0.8308 - acc: 0.7019 - val_loss: 1.4990 - val_acc: 0.5325\n",
      "Epoch 37/100\n",
      "50000/50000 [==============================] - 19s 375us/step - loss: 0.8127 - acc: 0.7067 - val_loss: 1.5027 - val_acc: 0.5271\n",
      "Epoch 38/100\n",
      "50000/50000 [==============================] - 16s 329us/step - loss: 0.7909 - acc: 0.7187 - val_loss: 1.5385 - val_acc: 0.5199\n",
      "Epoch 39/100\n",
      "50000/50000 [==============================] - 16s 320us/step - loss: 0.7643 - acc: 0.7252 - val_loss: 1.5769 - val_acc: 0.5230\n",
      "Epoch 40/100\n",
      "50000/50000 [==============================] - 16s 315us/step - loss: 0.7629 - acc: 0.7251 - val_loss: 1.5714 - val_acc: 0.5241\n",
      "Epoch 41/100\n",
      "50000/50000 [==============================] - 16s 322us/step - loss: 0.7375 - acc: 0.7376 - val_loss: 1.6493 - val_acc: 0.5128\n",
      "Epoch 42/100\n",
      "50000/50000 [==============================] - 23s 453us/step - loss: 0.7325 - acc: 0.7383 - val_loss: 1.6504 - val_acc: 0.5170\n",
      "Epoch 43/100\n",
      "50000/50000 [==============================] - 19s 383us/step - loss: 0.7190 - acc: 0.7434 - val_loss: 1.6413 - val_acc: 0.5167\n",
      "Epoch 44/100\n",
      "50000/50000 [==============================] - 18s 360us/step - loss: 0.7079 - acc: 0.7449 - val_loss: 1.6922 - val_acc: 0.5140\n",
      "Epoch 45/100\n",
      "50000/50000 [==============================] - 21s 411us/step - loss: 0.6906 - acc: 0.7508 - val_loss: 1.7016 - val_acc: 0.5172\n",
      "Epoch 46/100\n",
      "50000/50000 [==============================] - 18s 367us/step - loss: 0.6691 - acc: 0.7632 - val_loss: 1.7606 - val_acc: 0.5174\n",
      "Epoch 47/100\n",
      "50000/50000 [==============================] - 18s 364us/step - loss: 0.6648 - acc: 0.7610 - val_loss: 1.7501 - val_acc: 0.5079\n",
      "Epoch 48/100\n",
      "50000/50000 [==============================] - 18s 367us/step - loss: 0.6464 - acc: 0.7672 - val_loss: 1.8057 - val_acc: 0.5071\n",
      "Epoch 49/100\n",
      "50000/50000 [==============================] - 18s 361us/step - loss: 0.6284 - acc: 0.7757 - val_loss: 1.8599 - val_acc: 0.5105\n",
      "Epoch 50/100\n",
      "50000/50000 [==============================] - 20s 408us/step - loss: 0.6191 - acc: 0.7793 - val_loss: 1.7902 - val_acc: 0.5244\n",
      "Epoch 51/100\n",
      "50000/50000 [==============================] - 19s 380us/step - loss: 0.6038 - acc: 0.7813 - val_loss: 1.8320 - val_acc: 0.5139\n",
      "Epoch 52/100\n",
      "50000/50000 [==============================] - 19s 377us/step - loss: 0.6003 - acc: 0.7828 - val_loss: 1.8878 - val_acc: 0.5161\n",
      "Epoch 53/100\n",
      "50000/50000 [==============================] - 18s 363us/step - loss: 0.5783 - acc: 0.7921 - val_loss: 1.9024 - val_acc: 0.5154\n",
      "Epoch 54/100\n",
      "50000/50000 [==============================] - 19s 385us/step - loss: 0.5765 - acc: 0.7923 - val_loss: 1.9178 - val_acc: 0.5144\n",
      "Epoch 55/100\n",
      "50000/50000 [==============================] - 22s 433us/step - loss: 0.5542 - acc: 0.8011 - val_loss: 1.9810 - val_acc: 0.5110\n",
      "Epoch 56/100\n",
      "50000/50000 [==============================] - 20s 405us/step - loss: 0.5614 - acc: 0.7985 - val_loss: 1.9907 - val_acc: 0.5048\n",
      "Epoch 57/100\n",
      "50000/50000 [==============================] - 25s 499us/step - loss: 0.5389 - acc: 0.8066 - val_loss: 2.0694 - val_acc: 0.5037\n",
      "Epoch 58/100\n"
     ]
    },
    {
     "name": "stdout",
     "output_type": "stream",
     "text": [
      "50000/50000 [==============================] - 20s 399us/step - loss: 0.5238 - acc: 0.8120 - val_loss: 2.0829 - val_acc: 0.5130\n",
      "Epoch 59/100\n",
      "50000/50000 [==============================] - 19s 380us/step - loss: 0.5212 - acc: 0.8137 - val_loss: 2.0964 - val_acc: 0.5068\n",
      "Epoch 60/100\n",
      "50000/50000 [==============================] - 19s 375us/step - loss: 0.5125 - acc: 0.8161 - val_loss: 2.0891 - val_acc: 0.5068\n",
      "Epoch 61/100\n",
      "50000/50000 [==============================] - 21s 418us/step - loss: 0.4947 - acc: 0.8236 - val_loss: 2.0705 - val_acc: 0.5148\n",
      "Epoch 62/100\n",
      "50000/50000 [==============================] - 21s 430us/step - loss: 0.4908 - acc: 0.8238 - val_loss: 2.1459 - val_acc: 0.5053\n",
      "Epoch 63/100\n",
      "50000/50000 [==============================] - 22s 437us/step - loss: 0.4914 - acc: 0.8234 - val_loss: 2.1717 - val_acc: 0.5083\n",
      "Epoch 64/100\n",
      "50000/50000 [==============================] - 19s 384us/step - loss: 0.4717 - acc: 0.8317 - val_loss: 2.2072 - val_acc: 0.5059\n",
      "Epoch 65/100\n",
      "50000/50000 [==============================] - 19s 371us/step - loss: 0.4605 - acc: 0.8363 - val_loss: 2.2814 - val_acc: 0.5004\n",
      "Epoch 66/100\n",
      "50000/50000 [==============================] - 19s 371us/step - loss: 0.4770 - acc: 0.8290 - val_loss: 2.2508 - val_acc: 0.5129\n",
      "Epoch 67/100\n",
      "50000/50000 [==============================] - 19s 374us/step - loss: 0.4504 - acc: 0.8395 - val_loss: 2.2471 - val_acc: 0.5122\n",
      "Epoch 68/100\n",
      "50000/50000 [==============================] - 19s 379us/step - loss: 0.4490 - acc: 0.8391 - val_loss: 2.4369 - val_acc: 0.4926\n",
      "Epoch 69/100\n",
      "50000/50000 [==============================] - 20s 409us/step - loss: 0.4485 - acc: 0.8372 - val_loss: 2.3296 - val_acc: 0.5052\n",
      "Epoch 70/100\n",
      "50000/50000 [==============================] - 22s 447us/step - loss: 0.4146 - acc: 0.8515 - val_loss: 2.4065 - val_acc: 0.5059\n",
      "Epoch 71/100\n",
      "50000/50000 [==============================] - 19s 381us/step - loss: 0.4267 - acc: 0.8455 - val_loss: 2.3722 - val_acc: 0.5116\n",
      "Epoch 72/100\n",
      "50000/50000 [==============================] - 20s 391us/step - loss: 0.4178 - acc: 0.8504 - val_loss: 2.3550 - val_acc: 0.5109\n",
      "Epoch 73/100\n",
      "50000/50000 [==============================] - 19s 381us/step - loss: 0.4086 - acc: 0.8526 - val_loss: 2.4362 - val_acc: 0.5033\n",
      "Epoch 74/100\n",
      "50000/50000 [==============================] - 19s 372us/step - loss: 0.4102 - acc: 0.8541 - val_loss: 2.5117 - val_acc: 0.4983\n",
      "Epoch 75/100\n",
      "50000/50000 [==============================] - 19s 371us/step - loss: 0.4043 - acc: 0.8556 - val_loss: 2.4381 - val_acc: 0.5084\n",
      "Epoch 76/100\n",
      "50000/50000 [==============================] - 18s 368us/step - loss: 0.3635 - acc: 0.8707 - val_loss: 2.5888 - val_acc: 0.5091\n",
      "Epoch 77/100\n",
      "50000/50000 [==============================] - 18s 366us/step - loss: 0.3772 - acc: 0.8654 - val_loss: 2.5680 - val_acc: 0.5089\n",
      "Epoch 78/100\n",
      "50000/50000 [==============================] - 18s 369us/step - loss: 0.3747 - acc: 0.8659 - val_loss: 2.5103 - val_acc: 0.5067\n",
      "Epoch 79/100\n",
      "50000/50000 [==============================] - 19s 375us/step - loss: 0.3668 - acc: 0.8688 - val_loss: 2.5862 - val_acc: 0.5034\n",
      "Epoch 80/100\n",
      "50000/50000 [==============================] - 15s 299us/step - loss: 0.3971 - acc: 0.8562 - val_loss: 2.5946 - val_acc: 0.5015\n",
      "Epoch 81/100\n",
      "50000/50000 [==============================] - 10s 205us/step - loss: 0.3558 - acc: 0.8726 - val_loss: 2.6448 - val_acc: 0.5024\n",
      "Epoch 82/100\n",
      "50000/50000 [==============================] - 10s 203us/step - loss: 0.3479 - acc: 0.8754 - val_loss: 2.6999 - val_acc: 0.5026\n",
      "Epoch 83/100\n",
      "50000/50000 [==============================] - 10s 209us/step - loss: 0.3376 - acc: 0.8790 - val_loss: 2.7815 - val_acc: 0.4979\n",
      "Epoch 84/100\n",
      "50000/50000 [==============================] - 10s 203us/step - loss: 0.3384 - acc: 0.8778 - val_loss: 2.7884 - val_acc: 0.4901\n",
      "Epoch 85/100\n",
      "50000/50000 [==============================] - 10s 205us/step - loss: 0.3478 - acc: 0.8751 - val_loss: 2.8822 - val_acc: 0.4931\n",
      "Epoch 86/100\n",
      "50000/50000 [==============================] - 10s 207us/step - loss: 0.3318 - acc: 0.8803 - val_loss: 2.7856 - val_acc: 0.4995\n",
      "Epoch 87/100\n",
      "50000/50000 [==============================] - 10s 207us/step - loss: 0.3175 - acc: 0.8865 - val_loss: 2.8094 - val_acc: 0.5054\n",
      "Epoch 88/100\n",
      "50000/50000 [==============================] - 10s 205us/step - loss: 0.3304 - acc: 0.8815 - val_loss: 2.8105 - val_acc: 0.4928\n",
      "Epoch 89/100\n",
      "50000/50000 [==============================] - 10s 205us/step - loss: 0.3267 - acc: 0.8826 - val_loss: 2.8601 - val_acc: 0.4973\n",
      "Epoch 90/100\n",
      "50000/50000 [==============================] - 10s 204us/step - loss: 0.3185 - acc: 0.8861 - val_loss: 2.9261 - val_acc: 0.5042\n",
      "Epoch 91/100\n",
      "50000/50000 [==============================] - 10s 204us/step - loss: 0.3147 - acc: 0.8872 - val_loss: 3.0063 - val_acc: 0.4898\n",
      "Epoch 92/100\n",
      "50000/50000 [==============================] - 10s 204us/step - loss: 0.3136 - acc: 0.8874 - val_loss: 2.9016 - val_acc: 0.4967\n",
      "Epoch 93/100\n",
      "50000/50000 [==============================] - 10s 204us/step - loss: 0.2868 - acc: 0.8984 - val_loss: 3.0744 - val_acc: 0.4961\n",
      "Epoch 94/100\n",
      "50000/50000 [==============================] - 11s 212us/step - loss: 0.2963 - acc: 0.8940 - val_loss: 3.0264 - val_acc: 0.5064\n",
      "Epoch 95/100\n",
      "50000/50000 [==============================] - 10s 204us/step - loss: 0.3102 - acc: 0.8867 - val_loss: 2.9755 - val_acc: 0.4910\n",
      "Epoch 96/100\n",
      "50000/50000 [==============================] - 10s 204us/step - loss: 0.2817 - acc: 0.8989 - val_loss: 3.1537 - val_acc: 0.4890\n",
      "Epoch 97/100\n",
      "50000/50000 [==============================] - 10s 202us/step - loss: 0.2840 - acc: 0.8971 - val_loss: 3.1136 - val_acc: 0.4931\n",
      "Epoch 98/100\n",
      "50000/50000 [==============================] - 10s 200us/step - loss: 0.2894 - acc: 0.8954 - val_loss: 3.0841 - val_acc: 0.4915\n",
      "Epoch 99/100\n",
      "50000/50000 [==============================] - 10s 200us/step - loss: 0.2830 - acc: 0.8998 - val_loss: 3.2045 - val_acc: 0.5002\n",
      "Epoch 100/100\n",
      "50000/50000 [==============================] - 10s 202us/step - loss: 0.2610 - acc: 0.9056 - val_loss: 3.2481 - val_acc: 0.4906\n"
     ]
    },
    {
     "data": {
      "text/plain": [
       "<keras.callbacks.History at 0xb2faec208>"
      ]
     },
     "execution_count": 10,
     "metadata": {},
     "output_type": "execute_result"
    }
   ],
   "source": [
    "model.fit(x_train, y_train, \n",
    "          epochs=EPOCHS, \n",
    "          batch_size=BATCH_SIZE, \n",
    "          validation_data=(x_test, y_test), \n",
    "          shuffle=True)"
   ]
  },
  {
   "cell_type": "code",
   "execution_count": 12,
   "metadata": {},
   "outputs": [
    {
     "data": {
      "image/png": "[encoded data removed]",
      "text/plain": [
       "<Figure size 432x288 with 1 Axes>"
      ]
     },
     "metadata": {
      "needs_background": "light"
     },
     "output_type": "display_data"
    },
    {
     "data": {
      "image/png": "[encoded data removed]",
      "text/plain": [
       "<Figure size 432x288 with 1 Axes>"
      ]
     },
     "metadata": {
      "needs_background": "light"
     },
     "output_type": "display_data"
    }
   ],
   "source": [
    "import matplotlib.pyplot as plt\n",
    "\n",
    "\n",
    "train_loss = model.history.history[\"loss\"]\n",
    "valid_loss = model.history.history[\"val_loss\"]\n",
    "\n",
    "train_acc = model.history.history[\"acc\"]\n",
    "valid_acc = model.history.history[\"val_acc\"]\n",
    "\n",
    "plt.plot(range(len(train_loss)), train_loss, label=\"train loss\")\n",
    "plt.plot(range(len(valid_loss)), valid_loss, label=\"valid loss\")\n",
    "plt.legend()\n",
    "plt.title(\"Loss\")\n",
    "plt.show()\n",
    "\n",
    "plt.plot(range(len(train_acc)), train_acc, label=\"train accuracy\")\n",
    "plt.plot(range(len(valid_acc)), valid_acc, label=\"valid accuracy\")\n",
    "plt.legend()\n",
    "plt.title(\"Accuracy\")\n",
    "plt.show()"
   ]
  },
  {
   "cell_type": "code",
   "execution_count": null,
   "metadata": {},
   "outputs": [],
   "source": []
  }
 ],
 "metadata": {
  "kernelspec": {
   "display_name": "Python 3",
   "language": "python",
   "name": "python3"
  },
  "language_info": {
   "codemirror_mode": {
    "name": "ipython",
    "version": 3
   },
   "file_extension": ".py",
   "mimetype": "text/x-python",
   "name": "python",
   "nbconvert_exporter": "python",
   "pygments_lexer": "ipython3",
   "version": "3.7.3"
  }
 },
 "nbformat": 4,
 "nbformat_minor": 2
}
