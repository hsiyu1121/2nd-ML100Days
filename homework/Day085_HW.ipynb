{
 "cells": [
  {
   "cell_type": "markdown",
   "metadata": {},
   "source": [
    "## Work\n",
    "1. 試改變 monitor \"Validation Accuracy\" 並比較結果\n",
    "2. 調整 earlystop 的等待次數至 10, 25 並比較結果"
   ]
  },
  {
   "cell_type": "code",
   "execution_count": 1,
   "metadata": {},
   "outputs": [
    {
     "name": "stderr",
     "output_type": "stream",
     "text": [
      "Using TensorFlow backend.\n"
     ]
    }
   ],
   "source": [
    "import os\n",
    "import keras\n",
    "import matplotlib.pyplot as plt\n",
    "%matplotlib inline\n",
    "\n",
    "\n",
    "# Disable GPU\n",
    "os.environ[\"CUDA_VISIBLE_DEVICES\"] = \"\""
   ]
  },
  {
   "cell_type": "code",
   "execution_count": 2,
   "metadata": {},
   "outputs": [],
   "source": [
    "train, test = keras.datasets.cifar10.load_data()"
   ]
  },
  {
   "cell_type": "code",
   "execution_count": 3,
   "metadata": {},
   "outputs": [],
   "source": [
    "## 資料前處理\n",
    "def preproc_x(x, flatten=True):\n",
    "    x = x / 255.\n",
    "    if flatten:\n",
    "        x = x.reshape((len(x), -1))\n",
    "    return x\n",
    "\n",
    "def preproc_y(y, num_classes=10):\n",
    "    if y.shape[-1] == 1:\n",
    "        y = keras.utils.to_categorical(y, num_classes)\n",
    "    return y    "
   ]
  },
  {
   "cell_type": "code",
   "execution_count": 4,
   "metadata": {},
   "outputs": [],
   "source": [
    "x_train, y_train = train\n",
    "x_test, y_test = test\n",
    "\n",
    "# Preproc the inputs\n",
    "x_train = preproc_x(x_train)\n",
    "x_test = preproc_x(x_test)\n",
    "\n",
    "# Preprc the outputs\n",
    "y_train = preproc_y(y_train)\n",
    "y_test = preproc_y(y_test)"
   ]
  },
  {
   "cell_type": "code",
   "execution_count": 5,
   "metadata": {},
   "outputs": [],
   "source": [
    "#val_acc\n",
    "\n",
    "from keras.layers import BatchNormalization\n",
    "\n",
    "\"\"\"\n",
    "建立神經網路，並加入 BN layer\n",
    "\"\"\"\n",
    "def build_mlp(input_shape, output_units=10, num_neurons=[512, 256, 128]):\n",
    "    input_layer = keras.layers.Input(input_shape)\n",
    "    \n",
    "    for i, n_units in enumerate(num_neurons):\n",
    "        if i == 0:\n",
    "            x = keras.layers.Dense(units=n_units, \n",
    "                                   activation=\"relu\", \n",
    "                                   name=\"hidden_layer\"+str(i+1))(input_layer)\n",
    "            x = BatchNormalization()(x)\n",
    "        else:\n",
    "            x = keras.layers.Dense(units=n_units, \n",
    "                                   activation=\"relu\", \n",
    "                                   name=\"hidden_layer\"+str(i+1))(x)\n",
    "            x = BatchNormalization()(x)\n",
    "    \n",
    "    out = keras.layers.Dense(units=output_units, activation=\"softmax\", name=\"output\")(x)\n",
    "    \n",
    "    model = keras.models.Model(inputs=[input_layer], outputs=[out])\n",
    "    return model"
   ]
  },
  {
   "cell_type": "code",
   "execution_count": 6,
   "metadata": {},
   "outputs": [],
   "source": [
    "\"\"\"Code Here\n",
    "設定超參數\n",
    "\"\"\"\n",
    "\n",
    "## 超參數設定\n",
    "LEARNING_RATE = 1e-3\n",
    "EPOCHS = 50\n",
    "BATCH_SIZE = 1024\n",
    "MOMENTUM = 0.95"
   ]
  },
  {
   "cell_type": "markdown",
   "metadata": {},
   "source": [
    "# patience=10"
   ]
  },
  {
   "cell_type": "code",
   "execution_count": 7,
   "metadata": {},
   "outputs": [
    {
     "name": "stderr",
     "output_type": "stream",
     "text": [
      "WARNING: Logging before flag parsing goes to stderr.\n",
      "W0725 09:50:44.467703 4646077888 deprecation_wrapper.py:119] From /anaconda3/lib/python3.7/site-packages/keras/backend/tensorflow_backend.py:74: The name tf.get_default_graph is deprecated. Please use tf.compat.v1.get_default_graph instead.\n",
      "\n",
      "W0725 09:50:44.532941 4646077888 deprecation_wrapper.py:119] From /anaconda3/lib/python3.7/site-packages/keras/backend/tensorflow_backend.py:517: The name tf.placeholder is deprecated. Please use tf.compat.v1.placeholder instead.\n",
      "\n",
      "W0725 09:50:44.578180 4646077888 deprecation_wrapper.py:119] From /anaconda3/lib/python3.7/site-packages/keras/backend/tensorflow_backend.py:4138: The name tf.random_uniform is deprecated. Please use tf.random.uniform instead.\n",
      "\n",
      "W0725 09:50:44.744029 4646077888 deprecation_wrapper.py:119] From /anaconda3/lib/python3.7/site-packages/keras/backend/tensorflow_backend.py:133: The name tf.placeholder_with_default is deprecated. Please use tf.compat.v1.placeholder_with_default instead.\n",
      "\n",
      "W0725 09:50:44.999086 4646077888 deprecation_wrapper.py:119] From /anaconda3/lib/python3.7/site-packages/keras/optimizers.py:790: The name tf.train.Optimizer is deprecated. Please use tf.compat.v1.train.Optimizer instead.\n",
      "\n",
      "W0725 09:50:45.010036 4646077888 deprecation_wrapper.py:119] From /anaconda3/lib/python3.7/site-packages/keras/backend/tensorflow_backend.py:3295: The name tf.log is deprecated. Please use tf.math.log instead.\n",
      "\n",
      "W0725 09:50:45.148076 4646077888 deprecation.py:323] From /anaconda3/lib/python3.7/site-packages/tensorflow/python/ops/math_grad.py:1250: add_dispatch_support.<locals>.wrapper (from tensorflow.python.ops.array_ops) is deprecated and will be removed in a future version.\n",
      "Instructions for updating:\n",
      "Use tf.where in 2.0, which has the same broadcast rule as np.where\n"
     ]
    },
    {
     "name": "stdout",
     "output_type": "stream",
     "text": [
      "_________________________________________________________________\n",
      "Layer (type)                 Output Shape              Param #   \n",
      "=================================================================\n",
      "input_1 (InputLayer)         (None, 3072)              0         \n",
      "_________________________________________________________________\n",
      "hidden_layer1 (Dense)        (None, 512)               1573376   \n",
      "_________________________________________________________________\n",
      "batch_normalization_1 (Batch (None, 512)               2048      \n",
      "_________________________________________________________________\n",
      "hidden_layer2 (Dense)        (None, 256)               131328    \n",
      "_________________________________________________________________\n",
      "batch_normalization_2 (Batch (None, 256)               1024      \n",
      "_________________________________________________________________\n",
      "hidden_layer3 (Dense)        (None, 128)               32896     \n",
      "_________________________________________________________________\n",
      "batch_normalization_3 (Batch (None, 128)               512       \n",
      "_________________________________________________________________\n",
      "output (Dense)               (None, 10)                1290      \n",
      "=================================================================\n",
      "Total params: 1,742,474\n",
      "Trainable params: 1,740,682\n",
      "Non-trainable params: 1,792\n",
      "_________________________________________________________________\n",
      "Train on 50000 samples, validate on 10000 samples\n",
      "Epoch 1/50\n",
      "50000/50000 [==============================] - 9s 182us/step - loss: 2.2165 - acc: 0.2660 - val_loss: 2.1216 - val_acc: 0.3222\n",
      "Epoch 2/50\n",
      "50000/50000 [==============================] - 8s 151us/step - loss: 1.7497 - acc: 0.3939 - val_loss: 1.7768 - val_acc: 0.3855\n",
      "Epoch 3/50\n",
      "50000/50000 [==============================] - 7s 147us/step - loss: 1.6205 - acc: 0.4341 - val_loss: 1.6878 - val_acc: 0.4120\n",
      "Epoch 4/50\n",
      "50000/50000 [==============================] - 7s 131us/step - loss: 1.5450 - acc: 0.4621 - val_loss: 1.6288 - val_acc: 0.4260\n",
      "Epoch 5/50\n",
      "50000/50000 [==============================] - 7s 132us/step - loss: 1.4876 - acc: 0.4817 - val_loss: 1.5909 - val_acc: 0.4382\n",
      "Epoch 6/50\n",
      "50000/50000 [==============================] - 6s 124us/step - loss: 1.4450 - acc: 0.4971 - val_loss: 1.5685 - val_acc: 0.4437\n",
      "Epoch 7/50\n",
      "50000/50000 [==============================] - 7s 134us/step - loss: 1.4029 - acc: 0.5124 - val_loss: 1.5393 - val_acc: 0.4575\n",
      "Epoch 8/50\n",
      "50000/50000 [==============================] - 7s 132us/step - loss: 1.3681 - acc: 0.5250 - val_loss: 1.5241 - val_acc: 0.4608\n",
      "Epoch 9/50\n",
      "50000/50000 [==============================] - 7s 138us/step - loss: 1.3345 - acc: 0.5388 - val_loss: 1.5085 - val_acc: 0.4657\n",
      "Epoch 10/50\n",
      "50000/50000 [==============================] - 6s 125us/step - loss: 1.3050 - acc: 0.5486 - val_loss: 1.5077 - val_acc: 0.4677\n",
      "Epoch 11/50\n",
      "50000/50000 [==============================] - 6s 125us/step - loss: 1.2786 - acc: 0.5586 - val_loss: 1.4909 - val_acc: 0.4743\n",
      "Epoch 12/50\n",
      "50000/50000 [==============================] - 6s 128us/step - loss: 1.2521 - acc: 0.5671 - val_loss: 1.4807 - val_acc: 0.4789\n",
      "Epoch 13/50\n",
      "50000/50000 [==============================] - 7s 147us/step - loss: 1.2244 - acc: 0.5799 - val_loss: 1.4728 - val_acc: 0.4770\n",
      "Epoch 14/50\n",
      "50000/50000 [==============================] - 6s 129us/step - loss: 1.2008 - acc: 0.5862 - val_loss: 1.4749 - val_acc: 0.4820\n",
      "Epoch 15/50\n",
      "50000/50000 [==============================] - 7s 133us/step - loss: 1.1750 - acc: 0.5977 - val_loss: 1.4669 - val_acc: 0.4823\n",
      "Epoch 16/50\n",
      "50000/50000 [==============================] - 6s 125us/step - loss: 1.1536 - acc: 0.6048 - val_loss: 1.4594 - val_acc: 0.4868\n",
      "Epoch 17/50\n",
      "50000/50000 [==============================] - 6s 128us/step - loss: 1.1315 - acc: 0.6139 - val_loss: 1.4552 - val_acc: 0.4881\n",
      "Epoch 18/50\n",
      "50000/50000 [==============================] - 6s 126us/step - loss: 1.1084 - acc: 0.6218 - val_loss: 1.4594 - val_acc: 0.4917\n",
      "Epoch 19/50\n",
      "50000/50000 [==============================] - 6s 126us/step - loss: 1.0840 - acc: 0.6297 - val_loss: 1.4581 - val_acc: 0.4874\n",
      "Epoch 20/50\n",
      "50000/50000 [==============================] - 7s 133us/step - loss: 1.0636 - acc: 0.6367 - val_loss: 1.4557 - val_acc: 0.4915\n",
      "Epoch 21/50\n",
      "50000/50000 [==============================] - 6s 124us/step - loss: 1.0419 - acc: 0.6459 - val_loss: 1.4504 - val_acc: 0.4952\n",
      "Epoch 22/50\n",
      "50000/50000 [==============================] - 6s 124us/step - loss: 1.0194 - acc: 0.6541 - val_loss: 1.4592 - val_acc: 0.4885\n",
      "Epoch 23/50\n",
      "50000/50000 [==============================] - 6s 126us/step - loss: 1.0006 - acc: 0.6619 - val_loss: 1.4607 - val_acc: 0.4929\n",
      "Epoch 24/50\n",
      "50000/50000 [==============================] - 6s 124us/step - loss: 0.9799 - acc: 0.6694 - val_loss: 1.4631 - val_acc: 0.4877\n",
      "Epoch 25/50\n",
      "50000/50000 [==============================] - 6s 122us/step - loss: 0.9570 - acc: 0.6788 - val_loss: 1.4733 - val_acc: 0.4935\n",
      "Epoch 26/50\n",
      "50000/50000 [==============================] - 6s 126us/step - loss: 0.9392 - acc: 0.6850 - val_loss: 1.4763 - val_acc: 0.4899\n",
      "Epoch 27/50\n",
      "50000/50000 [==============================] - 6s 123us/step - loss: 0.9189 - acc: 0.6946 - val_loss: 1.4749 - val_acc: 0.4918\n",
      "Epoch 28/50\n",
      "50000/50000 [==============================] - 6s 124us/step - loss: 0.8979 - acc: 0.7026 - val_loss: 1.4830 - val_acc: 0.4893\n",
      "Epoch 29/50\n",
      "50000/50000 [==============================] - 6s 122us/step - loss: 0.8772 - acc: 0.7091 - val_loss: 1.4924 - val_acc: 0.4904\n",
      "Epoch 30/50\n",
      "50000/50000 [==============================] - 6s 123us/step - loss: 0.8582 - acc: 0.7173 - val_loss: 1.4727 - val_acc: 0.4945\n",
      "Epoch 31/50\n",
      "50000/50000 [==============================] - 6s 122us/step - loss: 0.8377 - acc: 0.7256 - val_loss: 1.4904 - val_acc: 0.4938\n",
      "Epoch 00031: early stopping\n"
     ]
    }
   ],
   "source": [
    "# 載入 Callbacks\n",
    "\"\"\"Code Here\n",
    "設定 callbacks: Earlystop\n",
    "\"\"\"\n",
    "from keras.callbacks import EarlyStopping\n",
    "\n",
    "earlystop = EarlyStopping(monitor=\"val_acc\", \n",
    "                          patience=10, \n",
    "                          verbose=1\n",
    "                          )\n",
    "results = {}\n",
    "\"\"\"Code Here\n",
    "撰寫你的訓練流程並將結果用 dictionary 紀錄\n",
    "\"\"\"\n",
    "\n",
    "model = build_mlp(input_shape=x_train.shape[1:])\n",
    "model.summary()\n",
    "optimizer = keras.optimizers.SGD(lr=LEARNING_RATE, nesterov=True, momentum=MOMENTUM)\n",
    "model.compile(loss=\"categorical_crossentropy\", metrics=[\"accuracy\"], optimizer=optimizer)\n",
    "\n",
    "model.fit(x_train, y_train, \n",
    "          epochs=EPOCHS, \n",
    "          batch_size=BATCH_SIZE, \n",
    "          validation_data=(x_test, y_test), \n",
    "          shuffle=True,\n",
    "          callbacks=[earlystop]\n",
    "         )\n",
    "\n",
    "# Collect results\n",
    "train_loss = model.history.history[\"loss\"]\n",
    "valid_loss = model.history.history[\"val_loss\"]\n",
    "train_acc = model.history.history[\"acc\"]\n",
    "valid_acc = model.history.history[\"val_acc\"]"
   ]
  },
  {
   "cell_type": "code",
   "execution_count": 8,
   "metadata": {},
   "outputs": [
    {
     "data": {
      "image/png": "[encoded data removed]",
      "text/plain": [
       "<Figure size 432x288 with 1 Axes>"
      ]
     },
     "metadata": {
      "needs_background": "light"
     },
     "output_type": "display_data"
    },
    {
     "data": {
      "image/png": "[encoded data removed]",
      "text/plain": [
       "<Figure size 432x288 with 1 Axes>"
      ]
     },
     "metadata": {
      "needs_background": "light"
     },
     "output_type": "display_data"
    }
   ],
   "source": [
    "import matplotlib.pyplot as plt\n",
    "%matplotlib inline\n",
    "\n",
    "plt.plot(range(len(train_loss)), train_loss, label=\"train loss\")\n",
    "plt.plot(range(len(valid_loss)), valid_loss, label=\"valid loss\")\n",
    "plt.legend()\n",
    "plt.title(\"Loss\")\n",
    "plt.show()\n",
    "\n",
    "plt.plot(range(len(train_acc)), train_acc, label=\"train accuracy\")\n",
    "plt.plot(range(len(valid_acc)), valid_acc, label=\"valid accuracy\")\n",
    "plt.legend()\n",
    "plt.title(\"Accuracy\")\n",
    "plt.show()"
   ]
  },
  {
   "cell_type": "markdown",
   "metadata": {},
   "source": [
    "# patience=25"
   ]
  },
  {
   "cell_type": "code",
   "execution_count": 9,
   "metadata": {},
   "outputs": [
    {
     "name": "stdout",
     "output_type": "stream",
     "text": [
      "_________________________________________________________________\n",
      "Layer (type)                 Output Shape              Param #   \n",
      "=================================================================\n",
      "input_2 (InputLayer)         (None, 3072)              0         \n",
      "_________________________________________________________________\n",
      "hidden_layer1 (Dense)        (None, 512)               1573376   \n",
      "_________________________________________________________________\n",
      "batch_normalization_4 (Batch (None, 512)               2048      \n",
      "_________________________________________________________________\n",
      "hidden_layer2 (Dense)        (None, 256)               131328    \n",
      "_________________________________________________________________\n",
      "batch_normalization_5 (Batch (None, 256)               1024      \n",
      "_________________________________________________________________\n",
      "hidden_layer3 (Dense)        (None, 128)               32896     \n",
      "_________________________________________________________________\n",
      "batch_normalization_6 (Batch (None, 128)               512       \n",
      "_________________________________________________________________\n",
      "output (Dense)               (None, 10)                1290      \n",
      "=================================================================\n",
      "Total params: 1,742,474\n",
      "Trainable params: 1,740,682\n",
      "Non-trainable params: 1,792\n",
      "_________________________________________________________________\n",
      "Train on 50000 samples, validate on 10000 samples\n",
      "Epoch 1/50\n",
      "50000/50000 [==============================] - 7s 137us/step - loss: 2.2072 - acc: 0.2665 - val_loss: 2.1201 - val_acc: 0.3176\n",
      "Epoch 2/50\n",
      "50000/50000 [==============================] - 6s 121us/step - loss: 1.7521 - acc: 0.3904 - val_loss: 1.8116 - val_acc: 0.3772\n",
      "Epoch 3/50\n",
      "50000/50000 [==============================] - 6s 120us/step - loss: 1.6280 - acc: 0.4318 - val_loss: 1.7050 - val_acc: 0.4071\n",
      "Epoch 4/50\n",
      "50000/50000 [==============================] - 6s 123us/step - loss: 1.5533 - acc: 0.4564 - val_loss: 1.6539 - val_acc: 0.4294\n",
      "Epoch 5/50\n",
      "50000/50000 [==============================] - 6s 122us/step - loss: 1.4969 - acc: 0.4773 - val_loss: 1.5928 - val_acc: 0.4400\n",
      "Epoch 6/50\n",
      "50000/50000 [==============================] - 6s 122us/step - loss: 1.4531 - acc: 0.4926 - val_loss: 1.5620 - val_acc: 0.4570\n",
      "Epoch 7/50\n",
      "50000/50000 [==============================] - 6s 120us/step - loss: 1.4130 - acc: 0.5088 - val_loss: 1.5491 - val_acc: 0.4569\n",
      "Epoch 8/50\n",
      "50000/50000 [==============================] - 6s 121us/step - loss: 1.3788 - acc: 0.5184 - val_loss: 1.5335 - val_acc: 0.4674\n",
      "Epoch 9/50\n",
      "50000/50000 [==============================] - 6s 120us/step - loss: 1.3482 - acc: 0.5311 - val_loss: 1.5261 - val_acc: 0.4685\n",
      "Epoch 10/50\n",
      "50000/50000 [==============================] - 6s 120us/step - loss: 1.3159 - acc: 0.5435 - val_loss: 1.5108 - val_acc: 0.4688\n",
      "Epoch 11/50\n",
      "50000/50000 [==============================] - 6s 122us/step - loss: 1.2899 - acc: 0.5536 - val_loss: 1.4987 - val_acc: 0.4780\n",
      "Epoch 12/50\n",
      "50000/50000 [==============================] - 6s 119us/step - loss: 1.2620 - acc: 0.5620 - val_loss: 1.4814 - val_acc: 0.4836\n",
      "Epoch 13/50\n",
      "50000/50000 [==============================] - 6s 119us/step - loss: 1.2355 - acc: 0.5734 - val_loss: 1.4748 - val_acc: 0.4865\n",
      "Epoch 14/50\n",
      "50000/50000 [==============================] - 6s 121us/step - loss: 1.2103 - acc: 0.5803 - val_loss: 1.4712 - val_acc: 0.4878\n",
      "Epoch 15/50\n",
      "50000/50000 [==============================] - 6s 121us/step - loss: 1.1864 - acc: 0.5902 - val_loss: 1.4708 - val_acc: 0.4904\n",
      "Epoch 16/50\n",
      "50000/50000 [==============================] - 6s 118us/step - loss: 1.1636 - acc: 0.5987 - val_loss: 1.4772 - val_acc: 0.4862\n",
      "Epoch 17/50\n",
      "50000/50000 [==============================] - 6s 122us/step - loss: 1.1391 - acc: 0.6088 - val_loss: 1.4691 - val_acc: 0.4891\n",
      "Epoch 18/50\n",
      "50000/50000 [==============================] - 6s 123us/step - loss: 1.1153 - acc: 0.6161 - val_loss: 1.4670 - val_acc: 0.4901\n",
      "Epoch 19/50\n",
      "50000/50000 [==============================] - 6s 130us/step - loss: 1.0952 - acc: 0.6257 - val_loss: 1.4674 - val_acc: 0.4905\n",
      "Epoch 20/50\n",
      "50000/50000 [==============================] - 6s 121us/step - loss: 1.0707 - acc: 0.6336 - val_loss: 1.4672 - val_acc: 0.4934\n",
      "Epoch 21/50\n",
      "50000/50000 [==============================] - 6s 120us/step - loss: 1.0495 - acc: 0.6427 - val_loss: 1.4741 - val_acc: 0.4951\n",
      "Epoch 22/50\n",
      "50000/50000 [==============================] - 6s 122us/step - loss: 1.0284 - acc: 0.6525 - val_loss: 1.4623 - val_acc: 0.4981\n",
      "Epoch 23/50\n",
      "50000/50000 [==============================] - 6s 122us/step - loss: 1.0067 - acc: 0.6600 - val_loss: 1.4765 - val_acc: 0.4947\n",
      "Epoch 24/50\n",
      "50000/50000 [==============================] - 6s 119us/step - loss: 0.9839 - acc: 0.6688 - val_loss: 1.4589 - val_acc: 0.5027\n",
      "Epoch 25/50\n",
      "50000/50000 [==============================] - 6s 122us/step - loss: 0.9619 - acc: 0.6775 - val_loss: 1.4617 - val_acc: 0.5011\n",
      "Epoch 26/50\n",
      "50000/50000 [==============================] - 6s 121us/step - loss: 0.9434 - acc: 0.6824 - val_loss: 1.4731 - val_acc: 0.4996\n",
      "Epoch 27/50\n",
      "50000/50000 [==============================] - 6s 122us/step - loss: 0.9223 - acc: 0.6929 - val_loss: 1.4679 - val_acc: 0.5018\n",
      "Epoch 28/50\n",
      "50000/50000 [==============================] - 6s 123us/step - loss: 0.9014 - acc: 0.7004 - val_loss: 1.4785 - val_acc: 0.5056\n",
      "Epoch 29/50\n",
      "50000/50000 [==============================] - 6s 121us/step - loss: 0.8818 - acc: 0.7088 - val_loss: 1.4852 - val_acc: 0.4980\n",
      "Epoch 30/50\n",
      "50000/50000 [==============================] - 6s 122us/step - loss: 0.8627 - acc: 0.7157 - val_loss: 1.4935 - val_acc: 0.5044\n",
      "Epoch 31/50\n",
      "50000/50000 [==============================] - 6s 119us/step - loss: 0.8425 - acc: 0.7233 - val_loss: 1.4928 - val_acc: 0.5021\n",
      "Epoch 32/50\n",
      "50000/50000 [==============================] - 6s 119us/step - loss: 0.8227 - acc: 0.7315 - val_loss: 1.5131 - val_acc: 0.5043\n",
      "Epoch 33/50\n",
      "50000/50000 [==============================] - 7s 130us/step - loss: 0.8028 - acc: 0.7390 - val_loss: 1.5271 - val_acc: 0.4912\n",
      "Epoch 34/50\n",
      "50000/50000 [==============================] - 7s 146us/step - loss: 0.7841 - acc: 0.7467 - val_loss: 1.5272 - val_acc: 0.5014\n",
      "Epoch 35/50\n",
      "50000/50000 [==============================] - 7s 135us/step - loss: 0.7644 - acc: 0.7546 - val_loss: 1.5439 - val_acc: 0.5023\n",
      "Epoch 36/50\n",
      "50000/50000 [==============================] - 7s 148us/step - loss: 0.7466 - acc: 0.7596 - val_loss: 1.5476 - val_acc: 0.4983\n",
      "Epoch 37/50\n",
      "50000/50000 [==============================] - 9s 176us/step - loss: 0.7265 - acc: 0.7687 - val_loss: 1.5582 - val_acc: 0.5021\n",
      "Epoch 38/50\n",
      "50000/50000 [==============================] - 7s 146us/step - loss: 0.7092 - acc: 0.7753 - val_loss: 1.5698 - val_acc: 0.4873\n",
      "Epoch 39/50\n",
      "50000/50000 [==============================] - 6s 128us/step - loss: 0.6905 - acc: 0.7813 - val_loss: 1.5905 - val_acc: 0.4949\n",
      "Epoch 40/50\n",
      "50000/50000 [==============================] - 7s 137us/step - loss: 0.6709 - acc: 0.7915 - val_loss: 1.5784 - val_acc: 0.4970\n",
      "Epoch 41/50\n",
      "50000/50000 [==============================] - 8s 164us/step - loss: 0.6539 - acc: 0.7974 - val_loss: 1.5867 - val_acc: 0.4934\n",
      "Epoch 42/50\n",
      "50000/50000 [==============================] - 7s 144us/step - loss: 0.6355 - acc: 0.8055 - val_loss: 1.5937 - val_acc: 0.4980\n",
      "Epoch 43/50\n",
      "50000/50000 [==============================] - 7s 138us/step - loss: 0.6177 - acc: 0.8127 - val_loss: 1.5966 - val_acc: 0.4988\n",
      "Epoch 44/50\n",
      "50000/50000 [==============================] - 7s 141us/step - loss: 0.6014 - acc: 0.8197 - val_loss: 1.6153 - val_acc: 0.4907\n",
      "Epoch 45/50\n",
      "50000/50000 [==============================] - 7s 150us/step - loss: 0.5841 - acc: 0.8253 - val_loss: 1.6320 - val_acc: 0.4938\n",
      "Epoch 46/50\n",
      "50000/50000 [==============================] - 8s 156us/step - loss: 0.5653 - acc: 0.8338 - val_loss: 1.6284 - val_acc: 0.4959\n",
      "Epoch 47/50\n",
      "50000/50000 [==============================] - 6s 127us/step - loss: 0.5512 - acc: 0.8386 - val_loss: 1.6457 - val_acc: 0.4911\n",
      "Epoch 48/50\n",
      "50000/50000 [==============================] - 7s 137us/step - loss: 0.5312 - acc: 0.8476 - val_loss: 1.6702 - val_acc: 0.4916\n",
      "Epoch 49/50\n"
     ]
    },
    {
     "name": "stdout",
     "output_type": "stream",
     "text": [
      "50000/50000 [==============================] - 7s 137us/step - loss: 0.5155 - acc: 0.8529 - val_loss: 1.6741 - val_acc: 0.4922\n",
      "Epoch 50/50\n",
      "50000/50000 [==============================] - 7s 131us/step - loss: 0.4977 - acc: 0.8598 - val_loss: 1.6568 - val_acc: 0.4922\n"
     ]
    }
   ],
   "source": [
    "# 載入 Callbacks\n",
    "\"\"\"Code Here\n",
    "設定 callbacks: Earlystop\n",
    "\"\"\"\n",
    "from keras.callbacks import EarlyStopping\n",
    "\n",
    "earlystop = EarlyStopping(monitor=\"val_acc\", \n",
    "                          patience=25, \n",
    "                          verbose=1\n",
    "                          )\n",
    "results = {}\n",
    "\"\"\"Code Here\n",
    "撰寫你的訓練流程並將結果用 dictionary 紀錄\n",
    "\"\"\"\n",
    "\n",
    "model = build_mlp(input_shape=x_train.shape[1:])\n",
    "model.summary()\n",
    "optimizer = keras.optimizers.SGD(lr=LEARNING_RATE, nesterov=True, momentum=MOMENTUM)\n",
    "model.compile(loss=\"categorical_crossentropy\", metrics=[\"accuracy\"], optimizer=optimizer)\n",
    "\n",
    "model.fit(x_train, y_train, \n",
    "          epochs=EPOCHS, \n",
    "          batch_size=BATCH_SIZE, \n",
    "          validation_data=(x_test, y_test), \n",
    "          shuffle=True,\n",
    "          callbacks=[earlystop]\n",
    "         )\n",
    "\n",
    "# Collect results\n",
    "train_loss = model.history.history[\"loss\"]\n",
    "valid_loss = model.history.history[\"val_loss\"]\n",
    "train_acc = model.history.history[\"acc\"]\n",
    "valid_acc = model.history.history[\"val_acc\"]"
   ]
  },
  {
   "cell_type": "code",
   "execution_count": 10,
   "metadata": {},
   "outputs": [
    {
     "data": {
      "image/png": "[encoded data removed]",
      "text/plain": [
       "<Figure size 432x288 with 1 Axes>"
      ]
     },
     "metadata": {
      "needs_background": "light"
     },
     "output_type": "display_data"
    },
    {
     "data": {
      "image/png": "[encoded data removed]",
      "text/plain": [
       "<Figure size 432x288 with 1 Axes>"
      ]
     },
     "metadata": {
      "needs_background": "light"
     },
     "output_type": "display_data"
    }
   ],
   "source": [
    "import matplotlib.pyplot as plt\n",
    "%matplotlib inline\n",
    "\n",
    "plt.plot(range(len(train_loss)), train_loss, label=\"train loss\")\n",
    "plt.plot(range(len(valid_loss)), valid_loss, label=\"valid loss\")\n",
    "plt.legend()\n",
    "plt.title(\"Loss\")\n",
    "plt.show()\n",
    "\n",
    "plt.plot(range(len(train_acc)), train_acc, label=\"train accuracy\")\n",
    "plt.plot(range(len(valid_acc)), valid_acc, label=\"valid accuracy\")\n",
    "plt.legend()\n",
    "plt.title(\"Accuracy\")\n",
    "plt.show()"
   ]
  },
  {
   "cell_type": "code",
   "execution_count": null,
   "metadata": {},
   "outputs": [],
   "source": []
  }
 ],
 "metadata": {
  "kernelspec": {
   "display_name": "Python 3",
   "language": "python",
   "name": "python3"
  },
  "language_info": {
   "codemirror_mode": {
    "name": "ipython",
    "version": 3
   },
   "file_extension": ".py",
   "mimetype": "text/x-python",
   "name": "python",
   "nbconvert_exporter": "python",
   "pygments_lexer": "ipython3",
   "version": "3.7.3"
  }
 },
 "nbformat": 4,
 "nbformat_minor": 2
}
